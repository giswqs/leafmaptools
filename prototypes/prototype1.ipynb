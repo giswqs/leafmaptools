{
 "cells": [
  {
   "cell_type": "markdown",
   "id": "bacterial-subject",
   "metadata": {},
   "source": [
    "# Prototype 1\n",
    "\n",
    "This shows two map tools. One of them, the StyleTool, can be used to change the style of GeoJSON and GeoData and similar layers."
   ]
  },
  {
   "cell_type": "code",
   "execution_count": 1,
   "id": "known-baking",
   "metadata": {},
   "outputs": [],
   "source": [
    "from IPython.display import JSON\n",
    "\n",
    "import requests\n",
    "from ipyleaflet import basemaps, Map, FullScreenControl, GeoJSON, LayersControl\n",
    "from ipywidgets import HBox, HTML, Layout, VBox\n",
    "\n",
    "from prototype1 import bounds, BasemapTool, StyleTool"
   ]
  },
  {
   "cell_type": "code",
   "execution_count": 6,
   "id": "color-topic",
   "metadata": {},
   "outputs": [],
   "source": [
    "cc = \"AUS\"\n",
    "url = f\"https://raw.githubusercontent.com/johan/world.geo.json/master/countries/{cc}.geo.json\"\n",
    "data = requests.get(url).json()\n",
    "gj = GeoJSON(data=data, name=cc)\n",
    "bm = basemaps.OpenStreetMap.BlackAndWhite\n",
    "m = Map(center=[0, 0], zoom=3, basemap=bm, layout=Layout(height=\"250px\"))\n",
    "m += LayersControl()\n",
    "m += FullScreenControl()\n",
    "m += gj"
   ]
  },
  {
   "cell_type": "code",
   "execution_count": 7,
   "id": "successful-improvement",
   "metadata": {},
   "outputs": [
    {
     "data": {
      "application/vnd.jupyter.widget-view+json": {
       "model_id": "00aa9a5b55f7438a8a7c0576665ef572",
       "version_major": 2,
       "version_minor": 0
      },
      "text/plain": [
       "Map(center=[0, 0], controls=(ZoomControl(options=['position', 'zoom_in_text', 'zoom_in_title', 'zoom_out_text'…"
      ]
     },
     "metadata": {},
     "output_type": "display_data"
    }
   ],
   "source": [
    "m"
   ]
  },
  {
   "cell_type": "code",
   "execution_count": 8,
   "id": "devoted-click",
   "metadata": {
    "tags": []
   },
   "outputs": [],
   "source": [
    "m.fit_bounds(bounds(data))"
   ]
  },
  {
   "cell_type": "code",
   "execution_count": 9,
   "id": "usual-witch",
   "metadata": {},
   "outputs": [],
   "source": [
    "st = StyleTool(a_map=m, layer=gj)\n",
    "bt = BasemapTool(a_map=m, description=\"\")"
   ]
  }
 ],
 "metadata": {
  "kernelspec": {
   "display_name": "Python 3",
   "language": "python",
   "name": "python3"
  },
  "language_info": {
   "codemirror_mode": {
    "name": "ipython",
    "version": 3
   },
   "file_extension": ".py",
   "mimetype": "text/x-python",
   "name": "python",
   "nbconvert_exporter": "python",
   "pygments_lexer": "ipython3",
   "version": "3.8.8"
  }
 },
 "nbformat": 4,
 "nbformat_minor": 5
}
