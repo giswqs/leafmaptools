{
 "cells": [
  {
   "cell_type": "markdown",
   "id": "elder-photograph",
   "metadata": {},
   "source": [
    "# Prototype 1\n",
    "\n",
    "This shows three map tools. One of them, the StyleTool, can be used to change the style of GeoJSON and GeoData and similar layers. One is a tool that adds a Mercator tile grid, and the last allows to switch between basemaps."
   ]
  },
  {
   "cell_type": "code",
   "execution_count": null,
   "id": "confidential-liberty",
   "metadata": {},
   "outputs": [],
   "source": [
    "from IPython.display import JSON\n",
    "\n",
    "import requests\n",
    "from ipyleaflet import basemaps, FullScreenControl, GeoJSON, LayersControl, Map\n",
    "from ipywidgets import HBox, HTML, Layout, VBox\n",
    "\n",
    "from prototype1 import bounds, BasemapTool, StyleTool, TileGridTool"
   ]
  },
  {
   "cell_type": "code",
   "execution_count": null,
   "id": "partial-token",
   "metadata": {
    "tags": []
   },
   "outputs": [],
   "source": [
    "cc = \"BRA\"\n",
    "url = f\"https://raw.githubusercontent.com/johan/world.geo.json/master/countries/{cc}.geo.json\"\n",
    "data = requests.get(url).json()\n",
    "gj = GeoJSON(data=data, name=cc)\n",
    "bm = basemaps.OpenStreetMap.Mapnik\n",
    "m = Map(center=[0, 0], zoom=3, basemap=bm, layout=Layout(width=\"800px\", height=\"400px\"))\n",
    "m += LayersControl()\n",
    "# m += FullScreenControl()\n",
    "m += gj\n",
    "m.fit_bounds(bounds(data))\n",
    "m"
   ]
  },
  {
   "cell_type": "code",
   "execution_count": null,
   "id": "negative-butter",
   "metadata": {},
   "outputs": [],
   "source": [
    "bt = BasemapTool(a_map=m, description=\"Basemap\", position=\"topright\")"
   ]
  },
  {
   "cell_type": "code",
   "execution_count": null,
   "id": "particular-madagascar",
   "metadata": {},
   "outputs": [],
   "source": [
    "st = StyleTool(a_map=m, layer=gj, position=\"topright\")"
   ]
  },
  {
   "cell_type": "code",
   "execution_count": null,
   "id": "exempt-performer",
   "metadata": {},
   "outputs": [],
   "source": [
    "t = TileGridTool(a_map=m, description=\"Tile Grid\", position=\"bottomleft\")"
   ]
  },
  {
   "cell_type": "code",
   "execution_count": null,
   "id": "valuable-reunion",
   "metadata": {},
   "outputs": [],
   "source": [
    "st = StyleTool(a_map=m, layer=t.gj)"
   ]
  }
 ],
 "metadata": {
  "kernelspec": {
   "display_name": "Python 3",
   "language": "python",
   "name": "python3"
  },
  "language_info": {
   "codemirror_mode": {
    "name": "ipython",
    "version": 3
   },
   "file_extension": ".py",
   "mimetype": "text/x-python",
   "name": "python",
   "nbconvert_exporter": "python",
   "pygments_lexer": "ipython3",
   "version": "3.8.8"
  }
 },
 "nbformat": 4,
 "nbformat_minor": 5
}
