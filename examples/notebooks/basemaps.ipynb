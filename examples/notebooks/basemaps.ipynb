{
 "cells": [
  {
   "cell_type": "markdown",
   "id": "unsigned-discount",
   "metadata": {
    "tags": []
   },
   "source": [
    "# Basemaps\n",
    "\n",
    "This shows the ``BasemapTool`` to switch between Ipyleaflet basemaps."
   ]
  },
  {
   "cell_type": "code",
   "execution_count": null,
   "id": "continent-absorption",
   "metadata": {},
   "outputs": [],
   "source": [
    "from ipyleaflet import basemaps, Map\n",
    "from ipywidgets import Layout\n",
    "\n",
    "from leafmaptools.basemaps import BasemapTool"
   ]
  },
  {
   "cell_type": "code",
   "execution_count": null,
   "id": "written-barcelona",
   "metadata": {
    "tags": []
   },
   "outputs": [],
   "source": [
    "bm = basemaps.OpenStreetMap.Mapnik\n",
    "layout = Layout(width=\"800px\", height=\"400px\")\n",
    "m = Map(center=[0, 0], zoom=2, basemap=bm, layout=layout)\n",
    "bt = BasemapTool(a_map=m, description=\"Basemap\", position=\"topright\")\n",
    "m"
   ]
  }
 ],
 "metadata": {
  "kernelspec": {
   "display_name": "Python 3",
   "language": "python",
   "name": "python3"
  },
  "language_info": {
   "codemirror_mode": {
    "name": "ipython",
    "version": 3
   },
   "file_extension": ".py",
   "mimetype": "text/x-python",
   "name": "python",
   "nbconvert_exporter": "python",
   "pygments_lexer": "ipython3",
   "version": "3.8.8"
  }
 },
 "nbformat": 4,
 "nbformat_minor": 5
}
