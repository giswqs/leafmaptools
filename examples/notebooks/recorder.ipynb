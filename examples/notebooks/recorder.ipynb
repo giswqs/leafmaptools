{
 "cells": [
  {
   "cell_type": "markdown",
   "id": "proved-interest",
   "metadata": {},
   "source": [
    "# Map Recorder\n",
    "\n",
    "This is an attempt to record and play back simple user operations on an ipyleaflet map, a little bit with [Asciinema.org](https://asciinema.org) in mind.\n",
    "\n",
    "Zoom and pan operations can be easily recorded and played back. Further exploration shows that map callbacks can essentially observe only changes in the visible map bounds which is enough for detecting/recording zoom and pan operations. But for other, maybe more interesting events, like adding layers to the map, the necessary events seem not to exist in ipyleaflet."
   ]
  },
  {
   "cell_type": "code",
   "execution_count": null,
   "id": "prepared-boost",
   "metadata": {},
   "outputs": [],
   "source": [
    "from ipyleaflet import basemaps, Map, WidgetControl\n",
    "\n",
    "from leafmaptools.recorder import MapRecorder"
   ]
  },
  {
   "cell_type": "code",
   "execution_count": null,
   "id": "african-sunrise",
   "metadata": {},
   "outputs": [],
   "source": [
    "m = Map(center=[0, 0], zoom=1, basemap=basemaps.OpenTopoMap,\n",
    "        scroll_wheel_zoom=True, inertia=False)\n",
    "rec = MapRecorder(m)  # , path=\"recording.jsrec\")\n",
    "m += WidgetControl(widget=rec.widget, position=\"bottomleft\", transparent_bg=True)\n",
    "m"
   ]
  }
 ],
 "metadata": {
  "kernelspec": {
   "display_name": "Python 3",
   "language": "python",
   "name": "python3"
  },
  "language_info": {
   "codemirror_mode": {
    "name": "ipython",
    "version": 3
   },
   "file_extension": ".py",
   "mimetype": "text/x-python",
   "name": "python",
   "nbconvert_exporter": "python",
   "pygments_lexer": "ipython3",
   "version": "3.8.8"
  }
 },
 "nbformat": 4,
 "nbformat_minor": 5
}
