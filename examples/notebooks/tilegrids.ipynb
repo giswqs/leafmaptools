{
 "cells": [
  {
   "cell_type": "markdown",
   "id": "downtown-admission",
   "metadata": {
    "tags": []
   },
   "source": [
    "# Tile Grids\n",
    "\n",
    "This shows a ``TileGridTool`` and an ``H3TileGridTool`` that add a Mercator and an H3 tile grid, respectively."
   ]
  },
  {
   "cell_type": "code",
   "execution_count": 2,
   "id": "controlled-baghdad",
   "metadata": {},
   "outputs": [],
   "source": [
    "from ipyleaflet import basemaps, FullScreenControl, LayersControl, Map\n",
    "from ipywidgets import Layout\n",
    "\n",
    "from leafmaptools.tilegrids import H3TileGridTool, TileGridTool"
   ]
  },
  {
   "cell_type": "code",
   "execution_count": 3,
   "id": "indian-manual",
   "metadata": {
    "tags": []
   },
   "outputs": [
    {
     "data": {
      "application/vnd.jupyter.widget-view+json": {
       "model_id": "3549e657072b4a36a1fedd5be1ab4bb8",
       "version_major": 2,
       "version_minor": 0
      },
      "text/plain": [
       "Map(center=[0, 0], controls=(ZoomControl(options=['position', 'zoom_in_text', 'zoom_in_title', 'zoom_out_text'…"
      ]
     },
     "metadata": {},
     "output_type": "display_data"
    }
   ],
   "source": [
    "bm = basemaps.OpenStreetMap.Mapnik\n",
    "layout = Layout(width=\"800px\", height=\"400px\")\n",
    "m = Map(center=[0, 0], zoom=3, basemap=bm, layout=layout)\n",
    "m += LayersControl()\n",
    "m += FullScreenControl()\n",
    "m"
   ]
  },
  {
   "cell_type": "code",
   "execution_count": 4,
   "id": "acquired-suspect",
   "metadata": {},
   "outputs": [],
   "source": [
    "# Can be added only after the map has been rendered.\n",
    "t = TileGridTool(a_map=m, description=\"Mercator\", position=\"bottomleft\")\n",
    "t = H3TileGridTool(a_map=m, description=\"H3\", position=\"bottomleft\")"
   ]
  }
 ],
 "metadata": {
  "kernelspec": {
   "display_name": "Python 3",
   "language": "python",
   "name": "python3"
  },
  "language_info": {
   "codemirror_mode": {
    "name": "ipython",
    "version": 3
   },
   "file_extension": ".py",
   "mimetype": "text/x-python",
   "name": "python",
   "nbconvert_exporter": "python",
   "pygments_lexer": "ipython3",
   "version": "3.8.8"
  }
 },
 "nbformat": 4,
 "nbformat_minor": 5
}
