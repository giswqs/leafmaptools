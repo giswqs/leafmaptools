{
 "cells": [
  {
   "cell_type": "markdown",
   "id": "gross-machinery",
   "metadata": {
    "tags": []
   },
   "source": [
    "# Tilegrids\n",
    "\n",
    "This shows three ``TileGrodTool`` that adds a Mercator tile grid."
   ]
  },
  {
   "cell_type": "code",
   "execution_count": null,
   "id": "north-publicity",
   "metadata": {},
   "outputs": [],
   "source": [
    "from ipyleaflet import basemaps, FullScreenControl, Map\n",
    "from ipywidgets import Layout\n",
    "\n",
    "from leafmaptools.tilegrids import TileGridTool"
   ]
  },
  {
   "cell_type": "code",
   "execution_count": null,
   "id": "amazing-static",
   "metadata": {
    "tags": []
   },
   "outputs": [],
   "source": [
    "bm = basemaps.OpenStreetMap.Mapnik\n",
    "layout = Layout(width=\"800px\", height=\"400px\")\n",
    "m = Map(center=[0, 0], zoom=3, basemap=bm, layout=layout)\n",
    "# m += FullScreenControl()\n",
    "m"
   ]
  },
  {
   "cell_type": "code",
   "execution_count": null,
   "id": "hazardous-indian",
   "metadata": {},
   "outputs": [],
   "source": [
    "# Can be added only after the map has been rendered.\n",
    "t = TileGridTool(a_map=m, description=\"Tile Grid\", position=\"bottomleft\")"
   ]
  }
 ],
 "metadata": {
  "kernelspec": {
   "display_name": "Python 3",
   "language": "python",
   "name": "python3"
  },
  "language_info": {
   "codemirror_mode": {
    "name": "ipython",
    "version": 3
   },
   "file_extension": ".py",
   "mimetype": "text/x-python",
   "name": "python",
   "nbconvert_exporter": "python",
   "pygments_lexer": "ipython3",
   "version": "3.8.8"
  }
 },
 "nbformat": 4,
 "nbformat_minor": 5
}
