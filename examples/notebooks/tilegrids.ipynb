{
 "cells": [
  {
   "cell_type": "markdown",
   "id": "racial-oxide",
   "metadata": {
    "tags": []
   },
   "source": [
    "# Tile Grids\n",
    "\n",
    "This shows a ``TileGridTool`` and an ``H3TileGridTool`` that add a Mercator and an H3 tile grid, respectively. There is still a tiny buglet as the bound used are those *before* instead of *after* the change."
   ]
  },
  {
   "cell_type": "code",
   "execution_count": null,
   "id": "furnished-ideal",
   "metadata": {},
   "outputs": [],
   "source": [
    "from ipyleaflet import basemaps, FullScreenControl, LayersControl, Map\n",
    "from ipywidgets import Layout\n",
    "\n",
    "from leafmaptools.tilegrids import H3TileGridTool, TileGridTool"
   ]
  },
  {
   "cell_type": "code",
   "execution_count": null,
   "id": "personal-president",
   "metadata": {
    "tags": []
   },
   "outputs": [],
   "source": [
    "bm = basemaps.OpenStreetMap.Mapnik\n",
    "layout = Layout(width=\"800px\", height=\"400px\")\n",
    "m = Map(center=[0, 0], zoom=3, basemap=bm, layout=layout)\n",
    "m += LayersControl()\n",
    "m += FullScreenControl()\n",
    "m"
   ]
  },
  {
   "cell_type": "code",
   "execution_count": null,
   "id": "historical-welsh",
   "metadata": {},
   "outputs": [],
   "source": [
    "# Can be added only after the map has been rendered.\n",
    "t = TileGridTool(a_map=m, description=\"Mercator\", position=\"bottomleft\")\n",
    "t = H3TileGridTool(a_map=m, description=\"H3\", position=\"bottomleft\")"
   ]
  }
 ],
 "metadata": {
  "kernelspec": {
   "display_name": "Python 3",
   "language": "python",
   "name": "python3"
  },
  "language_info": {
   "codemirror_mode": {
    "name": "ipython",
    "version": 3
   },
   "file_extension": ".py",
   "mimetype": "text/x-python",
   "name": "python",
   "nbconvert_exporter": "python",
   "pygments_lexer": "ipython3",
   "version": "3.8.8"
  }
 },
 "nbformat": 4,
 "nbformat_minor": 5
}
