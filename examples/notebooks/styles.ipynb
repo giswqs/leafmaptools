{
 "cells": [
  {
   "cell_type": "markdown",
   "id": "configured-president",
   "metadata": {
    "tags": []
   },
   "source": [
    "# Styles\n",
    "\n",
    "This shows the ``StyleTool`` to interactively change the style of GeoJSON and GeoData and similar layers."
   ]
  },
  {
   "cell_type": "code",
   "execution_count": null,
   "id": "executive-mentor",
   "metadata": {},
   "outputs": [],
   "source": [
    "import requests\n",
    "from ipyleaflet import basemaps, GeoJSON, LayersControl, Map\n",
    "from ipywidgets import Layout\n",
    "\n",
    "from leafmaptools.basemaps import bounds\n",
    "from leafmaptools.styles import StyleTool"
   ]
  },
  {
   "cell_type": "code",
   "execution_count": null,
   "id": "absent-wholesale",
   "metadata": {
    "tags": []
   },
   "outputs": [],
   "source": [
    "cc = \"BRA\"\n",
    "url = f\"https://raw.githubusercontent.com/johan/world.geo.json/master/countries/{cc}.geo.json\"\n",
    "data = requests.get(url).json()\n",
    "gj = GeoJSON(data=data, name=cc)\n",
    "\n",
    "bm = basemaps.OpenStreetMap.Mapnik\n",
    "layout = Layout(width=\"800px\", height=\"400px\")\n",
    "m = Map(center=[0, 0], zoom=3, basemap=bm, layout=layout)\n",
    "m += LayersControl()\n",
    "m += gj\n",
    "m.fit_bounds(bounds(data))\n",
    "st_stroke = StyleTool(a_map=m, layer=gj, transparent=True, position=\"bottomright\")\n",
    "st_fill = StyleTool(a_map=m, layer=gj, kind=\"fill\", transparent=True, position=\"bottomright\")\n",
    "m"
   ]
  }
 ],
 "metadata": {
  "kernelspec": {
   "display_name": "Python 3",
   "language": "python",
   "name": "python3"
  },
  "language_info": {
   "codemirror_mode": {
    "name": "ipython",
    "version": 3
   },
   "file_extension": ".py",
   "mimetype": "text/x-python",
   "name": "python",
   "nbconvert_exporter": "python",
   "pygments_lexer": "ipython3",
   "version": "3.8.8"
  }
 },
 "nbformat": 4,
 "nbformat_minor": 5
}
