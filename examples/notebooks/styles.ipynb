{
 "cells": [
  {
   "cell_type": "markdown",
   "id": "proud-worthy",
   "metadata": {
    "tags": []
   },
   "source": [
    "# Styles\n",
    "\n",
    "This shows the ``StyleTool`` and ``StyleTextTool`` to interactively change the style of GeoJSON and GeoData and similar layers."
   ]
  },
  {
   "cell_type": "code",
   "execution_count": null,
   "id": "comparable-baptist",
   "metadata": {},
   "outputs": [],
   "source": [
    "import requests\n",
    "from ipyleaflet import basemaps, GeoJSON, LayersControl, Map\n",
    "from ipywidgets import Layout\n",
    "\n",
    "from leafmaptools.utils import bounds\n",
    "from leafmaptools.styles import StyleTool, StyleTextTool"
   ]
  },
  {
   "cell_type": "code",
   "execution_count": null,
   "id": "possible-frequency",
   "metadata": {
    "tags": []
   },
   "outputs": [],
   "source": [
    "cc = \"BRA\"\n",
    "url = f\"https://raw.githubusercontent.com/johan/world.geo.json/master/countries/{cc}.geo.json\"\n",
    "data = requests.get(url).json()\n",
    "gj = GeoJSON(data=data, name=cc)"
   ]
  },
  {
   "cell_type": "code",
   "execution_count": null,
   "id": "civic-effort",
   "metadata": {
    "tags": []
   },
   "outputs": [],
   "source": [
    "bm = basemaps.OpenStreetMap.Mapnik\n",
    "layout = Layout(width=\"800px\", height=\"400px\")\n",
    "m = Map(center=[0, 0], zoom=3, basemap=bm, layout=layout)\n",
    "m += LayersControl()\n",
    "m += gj\n",
    "m.fit_bounds(bounds(data))\n",
    "st_stroke = StyleTool(a_map=m, layer=gj, transparent=True, position=\"bottomright\")\n",
    "st_fill = StyleTool(a_map=m, layer=gj, kind=\"fill\", transparent=True, position=\"bottomright\")\n",
    "m"
   ]
  },
  {
   "cell_type": "code",
   "execution_count": null,
   "id": "communist-particular",
   "metadata": {},
   "outputs": [],
   "source": [
    "bm = basemaps.OpenStreetMap.Mapnik\n",
    "layout = Layout(width=\"800px\", height=\"400px\")\n",
    "m = Map(center=[0, 0], zoom=3, basemap=bm, layout=layout)\n",
    "m += LayersControl()\n",
    "style={\n",
    "    \"color\": \"blue\", \"fillColor\": \"red\", \"weight\": 2,\n",
    "    \"opacity\": 1, \"fillOpacity\": 0.5, \"dashArray\": \"10,20,5\"\n",
    "}\n",
    "gj = GeoJSON(data=data, name=cc, style=style)\n",
    "m += gj\n",
    "m.fit_bounds(bounds(data))\n",
    "st_stroke = StyleTextTool(a_map=m, layer=gj, kind=\"stroke\", position=\"topright\")\n",
    "m"
   ]
  }
 ],
 "metadata": {
  "kernelspec": {
   "display_name": "Python 3",
   "language": "python",
   "name": "python3"
  },
  "language_info": {
   "codemirror_mode": {
    "name": "ipython",
    "version": 3
   },
   "file_extension": ".py",
   "mimetype": "text/x-python",
   "name": "python",
   "nbconvert_exporter": "python",
   "pygments_lexer": "ipython3",
   "version": "3.8.8"
  }
 },
 "nbformat": 4,
 "nbformat_minor": 5
}
